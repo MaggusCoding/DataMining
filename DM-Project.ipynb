{
  "nbformat": 4,
  "nbformat_minor": 0,
  "metadata": {
    "colab": {
      "provenance": [],
      "collapsed_sections": [
        "T9eutEb7grZ5"
      ],
      "include_colab_link": true
    },
    "kernelspec": {
      "name": "python3",
      "display_name": "Python 3"
    },
    "language_info": {
      "name": "python"
    }
  },
  "cells": [
    {
      "cell_type": "markdown",
      "metadata": {
        "id": "view-in-github",
        "colab_type": "text"
      },
      "source": [
        "<a href=\"https://colab.research.google.com/github/MaggusCoding/DataMining/blob/main/DM-Project.ipynb\" target=\"_parent\"><img src=\"https://colab.research.google.com/assets/colab-badge.svg\" alt=\"Open In Colab\"/></a>"
      ]
    },
    {
      "cell_type": "markdown",
      "source": [
        "# To-Dos: \n",
        "- Korrelationsanalyses"
      ],
      "metadata": {
        "id": "POJHycDB8jFG"
      }
    },
    {
      "cell_type": "code",
      "execution_count": 2,
      "metadata": {
        "id": "d5x6J0wrGI8c"
      },
      "outputs": [],
      "source": [
        "## Datensatz 'San Francisco Crime Classification' von Kaggle\n",
        "## Datensatzbeschreibung:\n",
        "# Datum                         - Zeitpunkt der Straftat\n",
        "# Kategorie                     - Kategorie der Straftat (nur in Trainingsdaten), Zielvariable\n",
        "# Beschreibung                  - detaillierte Beschreibung der Straftat (nur in Trainingsdaten)\n",
        "# Tag der Woche\n",
        "# 'District' der Polizeistation - Name des 'Districts' der Polizeistation\n",
        "# Auflösung                     - Ergebniss der Straftat\n",
        "# Adresse                       - geschätzte Adresse der Straftat\n",
        "# X                             - Long\n",
        "# Y                             - Lat"
      ]
    },
    {
      "cell_type": "code",
      "source": [
        "from google.colab import drive\n",
        "drive.mount('/content/drive', force_remount=True)"
      ],
      "metadata": {
        "id": "Bxdrq-yLOBPL",
        "colab": {
          "base_uri": "https://localhost:8080/"
        },
        "outputId": "35db2454-d6cc-4ebd-d528-28941a51bdff"
      },
      "execution_count": 38,
      "outputs": [
        {
          "output_type": "stream",
          "name": "stdout",
          "text": [
            "Mounted at /content/drive\n"
          ]
        }
      ]
    },
    {
      "cell_type": "code",
      "source": [
        "# Import der Pakete\n",
        "import numpy as np\n",
        "import pandas as pd\n",
        "import seaborn as sns\n",
        "from datetime import datetime as dt\n",
        "import matplotlib.pyplot as plt"
      ],
      "metadata": {
        "id": "m9swD2ZOM4hA"
      },
      "execution_count": 4,
      "outputs": []
    },
    {
      "cell_type": "code",
      "source": [
        "# Einlesen der Trainings- und Testdaten\n",
        "train = pd.read_csv(\"/content/drive/MyDrive/Master/DM/SF-Project/data/train.csv\")\n",
        "test  = pd.read_csv(\"/content/drive/MyDrive/Master/DM/SF-Project/data/test.csv\")"
      ],
      "metadata": {
        "id": "Wap2F5dDMnZU"
      },
      "execution_count": 5,
      "outputs": []
    },
    {
      "cell_type": "code",
      "source": [
        "# Pauls Kasten\n",
        "#train = pd.read_csv(\"/content/drive/MyDrive/Uni/Master/2.Semester/DataMining/Data/train.csv\")\n",
        "#test  = pd.read_csv(\"/content/drive/MyDrive/Uni/Master/2.Semester/DataMining/Data/test.csv\")"
      ],
      "metadata": {
        "id": "My2Sn1_ptEZD"
      },
      "execution_count": 6,
      "outputs": []
    },
    {
      "cell_type": "code",
      "source": [
        "# Übersicht über Kopf der Trainingsdaten\n",
        "train.head()"
      ],
      "metadata": {
        "colab": {
          "base_uri": "https://localhost:8080/",
          "height": 206
        },
        "id": "rw4MfxHfRisW",
        "outputId": "0ce36489-1a39-4045-dc45-3ca08f8b3a1d"
      },
      "execution_count": 7,
      "outputs": [
        {
          "data": {
            "text/html": [
              "\n",
              "  <div id=\"df-23ed3b61-84ab-4f20-b8e3-d5d4ed6d0505\">\n",
              "    <div class=\"colab-df-container\">\n",
              "      <div>\n",
              "<style scoped>\n",
              "    .dataframe tbody tr th:only-of-type {\n",
              "        vertical-align: middle;\n",
              "    }\n",
              "\n",
              "    .dataframe tbody tr th {\n",
              "        vertical-align: top;\n",
              "    }\n",
              "\n",
              "    .dataframe thead th {\n",
              "        text-align: right;\n",
              "    }\n",
              "</style>\n",
              "<table border=\"1\" class=\"dataframe\">\n",
              "  <thead>\n",
              "    <tr style=\"text-align: right;\">\n",
              "      <th></th>\n",
              "      <th>Dates</th>\n",
              "      <th>Category</th>\n",
              "      <th>Descript</th>\n",
              "      <th>DayOfWeek</th>\n",
              "      <th>PdDistrict</th>\n",
              "      <th>Resolution</th>\n",
              "      <th>Address</th>\n",
              "      <th>X</th>\n",
              "      <th>Y</th>\n",
              "    </tr>\n",
              "  </thead>\n",
              "  <tbody>\n",
              "    <tr>\n",
              "      <th>0</th>\n",
              "      <td>2015-05-13 23:53:00</td>\n",
              "      <td>WARRANTS</td>\n",
              "      <td>WARRANT ARREST</td>\n",
              "      <td>Wednesday</td>\n",
              "      <td>NORTHERN</td>\n",
              "      <td>ARREST, BOOKED</td>\n",
              "      <td>OAK ST / LAGUNA ST</td>\n",
              "      <td>-122.425892</td>\n",
              "      <td>37.774599</td>\n",
              "    </tr>\n",
              "    <tr>\n",
              "      <th>1</th>\n",
              "      <td>2015-05-13 23:53:00</td>\n",
              "      <td>OTHER OFFENSES</td>\n",
              "      <td>TRAFFIC VIOLATION ARREST</td>\n",
              "      <td>Wednesday</td>\n",
              "      <td>NORTHERN</td>\n",
              "      <td>ARREST, BOOKED</td>\n",
              "      <td>OAK ST / LAGUNA ST</td>\n",
              "      <td>-122.425892</td>\n",
              "      <td>37.774599</td>\n",
              "    </tr>\n",
              "    <tr>\n",
              "      <th>2</th>\n",
              "      <td>2015-05-13 23:33:00</td>\n",
              "      <td>OTHER OFFENSES</td>\n",
              "      <td>TRAFFIC VIOLATION ARREST</td>\n",
              "      <td>Wednesday</td>\n",
              "      <td>NORTHERN</td>\n",
              "      <td>ARREST, BOOKED</td>\n",
              "      <td>VANNESS AV / GREENWICH ST</td>\n",
              "      <td>-122.424363</td>\n",
              "      <td>37.800414</td>\n",
              "    </tr>\n",
              "    <tr>\n",
              "      <th>3</th>\n",
              "      <td>2015-05-13 23:30:00</td>\n",
              "      <td>LARCENY/THEFT</td>\n",
              "      <td>GRAND THEFT FROM LOCKED AUTO</td>\n",
              "      <td>Wednesday</td>\n",
              "      <td>NORTHERN</td>\n",
              "      <td>NONE</td>\n",
              "      <td>1500 Block of LOMBARD ST</td>\n",
              "      <td>-122.426995</td>\n",
              "      <td>37.800873</td>\n",
              "    </tr>\n",
              "    <tr>\n",
              "      <th>4</th>\n",
              "      <td>2015-05-13 23:30:00</td>\n",
              "      <td>LARCENY/THEFT</td>\n",
              "      <td>GRAND THEFT FROM LOCKED AUTO</td>\n",
              "      <td>Wednesday</td>\n",
              "      <td>PARK</td>\n",
              "      <td>NONE</td>\n",
              "      <td>100 Block of BRODERICK ST</td>\n",
              "      <td>-122.438738</td>\n",
              "      <td>37.771541</td>\n",
              "    </tr>\n",
              "  </tbody>\n",
              "</table>\n",
              "</div>\n",
              "      <button class=\"colab-df-convert\" onclick=\"convertToInteractive('df-23ed3b61-84ab-4f20-b8e3-d5d4ed6d0505')\"\n",
              "              title=\"Convert this dataframe to an interactive table.\"\n",
              "              style=\"display:none;\">\n",
              "        \n",
              "  <svg xmlns=\"http://www.w3.org/2000/svg\" height=\"24px\"viewBox=\"0 0 24 24\"\n",
              "       width=\"24px\">\n",
              "    <path d=\"M0 0h24v24H0V0z\" fill=\"none\"/>\n",
              "    <path d=\"M18.56 5.44l.94 2.06.94-2.06 2.06-.94-2.06-.94-.94-2.06-.94 2.06-2.06.94zm-11 1L8.5 8.5l.94-2.06 2.06-.94-2.06-.94L8.5 2.5l-.94 2.06-2.06.94zm10 10l.94 2.06.94-2.06 2.06-.94-2.06-.94-.94-2.06-.94 2.06-2.06.94z\"/><path d=\"M17.41 7.96l-1.37-1.37c-.4-.4-.92-.59-1.43-.59-.52 0-1.04.2-1.43.59L10.3 9.45l-7.72 7.72c-.78.78-.78 2.05 0 2.83L4 21.41c.39.39.9.59 1.41.59.51 0 1.02-.2 1.41-.59l7.78-7.78 2.81-2.81c.8-.78.8-2.07 0-2.86zM5.41 20L4 18.59l7.72-7.72 1.47 1.35L5.41 20z\"/>\n",
              "  </svg>\n",
              "      </button>\n",
              "      \n",
              "  <style>\n",
              "    .colab-df-container {\n",
              "      display:flex;\n",
              "      flex-wrap:wrap;\n",
              "      gap: 12px;\n",
              "    }\n",
              "\n",
              "    .colab-df-convert {\n",
              "      background-color: #E8F0FE;\n",
              "      border: none;\n",
              "      border-radius: 50%;\n",
              "      cursor: pointer;\n",
              "      display: none;\n",
              "      fill: #1967D2;\n",
              "      height: 32px;\n",
              "      padding: 0 0 0 0;\n",
              "      width: 32px;\n",
              "    }\n",
              "\n",
              "    .colab-df-convert:hover {\n",
              "      background-color: #E2EBFA;\n",
              "      box-shadow: 0px 1px 2px rgba(60, 64, 67, 0.3), 0px 1px 3px 1px rgba(60, 64, 67, 0.15);\n",
              "      fill: #174EA6;\n",
              "    }\n",
              "\n",
              "    [theme=dark] .colab-df-convert {\n",
              "      background-color: #3B4455;\n",
              "      fill: #D2E3FC;\n",
              "    }\n",
              "\n",
              "    [theme=dark] .colab-df-convert:hover {\n",
              "      background-color: #434B5C;\n",
              "      box-shadow: 0px 1px 3px 1px rgba(0, 0, 0, 0.15);\n",
              "      filter: drop-shadow(0px 1px 2px rgba(0, 0, 0, 0.3));\n",
              "      fill: #FFFFFF;\n",
              "    }\n",
              "  </style>\n",
              "\n",
              "      <script>\n",
              "        const buttonEl =\n",
              "          document.querySelector('#df-23ed3b61-84ab-4f20-b8e3-d5d4ed6d0505 button.colab-df-convert');\n",
              "        buttonEl.style.display =\n",
              "          google.colab.kernel.accessAllowed ? 'block' : 'none';\n",
              "\n",
              "        async function convertToInteractive(key) {\n",
              "          const element = document.querySelector('#df-23ed3b61-84ab-4f20-b8e3-d5d4ed6d0505');\n",
              "          const dataTable =\n",
              "            await google.colab.kernel.invokeFunction('convertToInteractive',\n",
              "                                                     [key], {});\n",
              "          if (!dataTable) return;\n",
              "\n",
              "          const docLinkHtml = 'Like what you see? Visit the ' +\n",
              "            '<a target=\"_blank\" href=https://colab.research.google.com/notebooks/data_table.ipynb>data table notebook</a>'\n",
              "            + ' to learn more about interactive tables.';\n",
              "          element.innerHTML = '';\n",
              "          dataTable['output_type'] = 'display_data';\n",
              "          await google.colab.output.renderOutput(dataTable, element);\n",
              "          const docLink = document.createElement('div');\n",
              "          docLink.innerHTML = docLinkHtml;\n",
              "          element.appendChild(docLink);\n",
              "        }\n",
              "      </script>\n",
              "    </div>\n",
              "  </div>\n",
              "  "
            ],
            "text/plain": [
              "                 Dates        Category                      Descript  \\\n",
              "0  2015-05-13 23:53:00        WARRANTS                WARRANT ARREST   \n",
              "1  2015-05-13 23:53:00  OTHER OFFENSES      TRAFFIC VIOLATION ARREST   \n",
              "2  2015-05-13 23:33:00  OTHER OFFENSES      TRAFFIC VIOLATION ARREST   \n",
              "3  2015-05-13 23:30:00   LARCENY/THEFT  GRAND THEFT FROM LOCKED AUTO   \n",
              "4  2015-05-13 23:30:00   LARCENY/THEFT  GRAND THEFT FROM LOCKED AUTO   \n",
              "\n",
              "   DayOfWeek PdDistrict      Resolution                    Address  \\\n",
              "0  Wednesday   NORTHERN  ARREST, BOOKED         OAK ST / LAGUNA ST   \n",
              "1  Wednesday   NORTHERN  ARREST, BOOKED         OAK ST / LAGUNA ST   \n",
              "2  Wednesday   NORTHERN  ARREST, BOOKED  VANNESS AV / GREENWICH ST   \n",
              "3  Wednesday   NORTHERN            NONE   1500 Block of LOMBARD ST   \n",
              "4  Wednesday       PARK            NONE  100 Block of BRODERICK ST   \n",
              "\n",
              "            X          Y  \n",
              "0 -122.425892  37.774599  \n",
              "1 -122.425892  37.774599  \n",
              "2 -122.424363  37.800414  \n",
              "3 -122.426995  37.800873  \n",
              "4 -122.438738  37.771541  "
            ]
          },
          "execution_count": 7,
          "metadata": {},
          "output_type": "execute_result"
        }
      ]
    },
    {
      "cell_type": "code",
      "source": [
        "# Datentypen ermitteln\n",
        "train.dtypes"
      ],
      "metadata": {
        "colab": {
          "base_uri": "https://localhost:8080/"
        },
        "id": "Ug4YZq-uRyB5",
        "outputId": "a0067c81-a4a2-4951-c50e-12a0b7bbcb6e"
      },
      "execution_count": 8,
      "outputs": [
        {
          "data": {
            "text/plain": [
              "Dates          object\n",
              "Category       object\n",
              "Descript       object\n",
              "DayOfWeek      object\n",
              "PdDistrict     object\n",
              "Resolution     object\n",
              "Address        object\n",
              "X             float64\n",
              "Y             float64\n",
              "dtype: object"
            ]
          },
          "execution_count": 8,
          "metadata": {},
          "output_type": "execute_result"
        }
      ]
    },
    {
      "cell_type": "code",
      "source": [
        "train.shape"
      ],
      "metadata": {
        "colab": {
          "base_uri": "https://localhost:8080/"
        },
        "id": "8X-BnZSFlJk9",
        "outputId": "66d39c23-665d-4e9b-e924-4f93c5c15bc5"
      },
      "execution_count": 9,
      "outputs": [
        {
          "data": {
            "text/plain": [
              "(878049, 9)"
            ]
          },
          "execution_count": 9,
          "metadata": {},
          "output_type": "execute_result"
        }
      ]
    },
    {
      "cell_type": "markdown",
      "source": [
        "# **Datenvorverarbeitung**\n",
        "- Trennung der Datenspalte\n",
        "- NA Behandlung\n",
        "- Duplikate entfernen\n",
        "- Einschränkung der Kategorien"
      ],
      "metadata": {
        "id": "T9eutEb7grZ5"
      }
    },
    {
      "cell_type": "code",
      "source": [
        "## Datenformatierung - Dates\n",
        "# Umwandeln in Datumformat\n",
        "train['Dates'] = pd.to_datetime(train['Dates'])\n",
        "# Trennung von Datum und Uhrzeit\n",
        "train['Date'] = train['Dates'].dt.strftime('%Y-%m-%d')\n",
        "train['Date'] = pd.to_datetime(train['Date'])\n",
        "\n",
        "train['Time'] = train['Dates'].dt.strftime('%H:%M')\n",
        "train['Hour'] = pd.to_datetime(train['Dates'], format='%H:%M').dt.hour"
      ],
      "metadata": {
        "id": "sEHuJBDkSN4z"
      },
      "execution_count": 10,
      "outputs": []
    },
    {
      "cell_type": "code",
      "source": [
        "# Jahr, Monat, Tag extrahieren\n",
        "train['Year']  = train['Dates'].dt.strftime('%Y').astype(int)\n",
        "train['Month'] = train['Dates'].dt.strftime('%m').astype(int)\n",
        "train['Day']   = train['Dates'].dt.strftime('%d').astype(int)"
      ],
      "metadata": {
        "id": "APJPxCxZbu_1"
      },
      "execution_count": 11,
      "outputs": []
    },
    {
      "cell_type": "code",
      "source": [
        "# Variable WeekOfYear anlegen\n",
        "train['WeekOfYear'] = pd.to_datetime(train['Date']).dt.isocalendar().week.astype(int)"
      ],
      "metadata": {
        "id": "KMdrb27NZx7t"
      },
      "execution_count": 12,
      "outputs": []
    },
    {
      "cell_type": "code",
      "source": [
        "# Variable Dates löschen\n",
        "train = train.drop('Dates',axis=1)"
      ],
      "metadata": {
        "id": "4O9HxjLEdl07"
      },
      "execution_count": 13,
      "outputs": []
    },
    {
      "cell_type": "code",
      "source": [
        "## NA Behandlung\n",
        "# Übersicht über NA in Spalten\n",
        "train.isna().sum()\n",
        "# keine NA's ersichtlich "
      ],
      "metadata": {
        "colab": {
          "base_uri": "https://localhost:8080/"
        },
        "id": "N2pFoKoNjkOC",
        "outputId": "d80dafa4-44be-415a-a851-40a546dbac4b"
      },
      "execution_count": 14,
      "outputs": [
        {
          "data": {
            "text/plain": [
              "Category      0\n",
              "Descript      0\n",
              "DayOfWeek     0\n",
              "PdDistrict    0\n",
              "Resolution    0\n",
              "Address       0\n",
              "X             0\n",
              "Y             0\n",
              "Date          0\n",
              "Time          0\n",
              "Hour          0\n",
              "Year          0\n",
              "Month         0\n",
              "Day           0\n",
              "WeekOfYear    0\n",
              "dtype: int64"
            ]
          },
          "execution_count": 14,
          "metadata": {},
          "output_type": "execute_result"
        }
      ]
    },
    {
      "cell_type": "code",
      "source": [
        "# Ausgabe eindeutiger Werte für relevanten Spalten\n",
        "train_uniq = train.loc[:,['Category','PdDistrict','Resolution','Address']]\n",
        "for col in train_uniq:\n",
        "  print(train_uniq[col].value_counts())"
      ],
      "metadata": {
        "id": "lAKTnKWGmTMs",
        "colab": {
          "base_uri": "https://localhost:8080/"
        },
        "outputId": "dc2e5ae7-c985-4740-c9e6-95fd2337ef71"
      },
      "execution_count": 15,
      "outputs": [
        {
          "metadata": {
            "tags": null
          },
          "name": "stdout",
          "output_type": "stream",
          "text": [
            "LARCENY/THEFT                  174900\n",
            "OTHER OFFENSES                 126182\n",
            "NON-CRIMINAL                    92304\n",
            "ASSAULT                         76876\n",
            "DRUG/NARCOTIC                   53971\n",
            "VEHICLE THEFT                   53781\n",
            "VANDALISM                       44725\n",
            "WARRANTS                        42214\n",
            "BURGLARY                        36755\n",
            "SUSPICIOUS OCC                  31414\n",
            "MISSING PERSON                  25989\n",
            "ROBBERY                         23000\n",
            "FRAUD                           16679\n",
            "FORGERY/COUNTERFEITING          10609\n",
            "SECONDARY CODES                  9985\n",
            "WEAPON LAWS                      8555\n",
            "PROSTITUTION                     7484\n",
            "TRESPASS                         7326\n",
            "STOLEN PROPERTY                  4540\n",
            "SEX OFFENSES FORCIBLE            4388\n",
            "DISORDERLY CONDUCT               4320\n",
            "DRUNKENNESS                      4280\n",
            "RECOVERED VEHICLE                3138\n",
            "KIDNAPPING                       2341\n",
            "DRIVING UNDER THE INFLUENCE      2268\n",
            "RUNAWAY                          1946\n",
            "LIQUOR LAWS                      1903\n",
            "ARSON                            1513\n",
            "LOITERING                        1225\n",
            "EMBEZZLEMENT                     1166\n",
            "SUICIDE                           508\n",
            "FAMILY OFFENSES                   491\n",
            "BAD CHECKS                        406\n",
            "BRIBERY                           289\n",
            "EXTORTION                         256\n",
            "SEX OFFENSES NON FORCIBLE         148\n",
            "GAMBLING                          146\n",
            "PORNOGRAPHY/OBSCENE MAT            22\n",
            "TREA                                6\n",
            "Name: Category, dtype: int64\n",
            "SOUTHERN      157182\n",
            "MISSION       119908\n",
            "NORTHERN      105296\n",
            "BAYVIEW        89431\n",
            "CENTRAL        85460\n",
            "TENDERLOIN     81809\n",
            "INGLESIDE      78845\n",
            "TARAVAL        65596\n",
            "PARK           49313\n",
            "RICHMOND       45209\n",
            "Name: PdDistrict, dtype: int64\n",
            "NONE                                      526790\n",
            "ARREST, BOOKED                            206403\n",
            "ARREST, CITED                              77004\n",
            "LOCATED                                    17101\n",
            "PSYCHOPATHIC CASE                          14534\n",
            "UNFOUNDED                                   9585\n",
            "JUVENILE BOOKED                             5564\n",
            "COMPLAINANT REFUSES TO PROSECUTE            3976\n",
            "DISTRICT ATTORNEY REFUSES TO PROSECUTE      3934\n",
            "NOT PROSECUTED                              3714\n",
            "JUVENILE CITED                              3332\n",
            "PROSECUTED BY OUTSIDE AGENCY                2504\n",
            "EXCEPTIONAL CLEARANCE                       1530\n",
            "JUVENILE ADMONISHED                         1455\n",
            "JUVENILE DIVERTED                            355\n",
            "CLEARED-CONTACT JUVENILE FOR MORE INFO       217\n",
            "PROSECUTED FOR LESSER OFFENSE                 51\n",
            "Name: Resolution, dtype: int64\n",
            "800 Block of BRYANT ST           26533\n",
            "800 Block of MARKET ST            6581\n",
            "2000 Block of MISSION ST          5097\n",
            "1000 Block of POTRERO AV          4063\n",
            "900 Block of MARKET ST            3251\n",
            "                                 ...  \n",
            "PRECITA AV / CESAR CHAVEZ ST         1\n",
            "0 Block of COLUSA PL                 1\n",
            "2800 Block of KEITH ST               1\n",
            "CABRILLO ST / ARGUELLO BL            1\n",
            "OFARRELL ST / CYRIL MAGNIN ST        1\n",
            "Name: Address, Length: 23228, dtype: int64\n"
          ]
        }
      ]
    },
    {
      "cell_type": "code",
      "source": [
        "# Augenscheinlich keine fehlerhaften/uneindeutige Werte enthalten"
      ],
      "metadata": {
        "id": "G6_cRzhHpJ-W"
      },
      "execution_count": 16,
      "outputs": []
    },
    {
      "cell_type": "code",
      "source": [
        "## Duplikate\n",
        "# Anzahl der Duplikate\n",
        "dup_rows = train.duplicated()\n",
        "print('Anzahl an duplizierten Zeilen:',sum(dup_rows))"
      ],
      "metadata": {
        "colab": {
          "base_uri": "https://localhost:8080/"
        },
        "id": "KOUQ98Kzkw3_",
        "outputId": "86867605-eabd-4d83-cab9-bb28d957c043"
      },
      "execution_count": 17,
      "outputs": [
        {
          "metadata": {
            "tags": null
          },
          "name": "stdout",
          "output_type": "stream",
          "text": [
            "Anzahl an duplizierten Zeilen: 2323\n"
          ]
        }
      ]
    },
    {
      "cell_type": "code",
      "source": [
        "# Entfernen der Duplikate\n",
        "train        = train.drop_duplicates()\n",
        "dup_rows_new = train.duplicated()\n",
        "print('Anzahl an duplizierten Zeilen:',sum(dup_rows_new))"
      ],
      "metadata": {
        "colab": {
          "base_uri": "https://localhost:8080/"
        },
        "id": "7sxcutbqlzTL",
        "outputId": "f9081d2e-d8f1-4daa-dc4e-83943d63b043"
      },
      "execution_count": 18,
      "outputs": [
        {
          "metadata": {
            "tags": null
          },
          "name": "stdout",
          "output_type": "stream",
          "text": [
            "Anzahl an duplizierten Zeilen: 0\n"
          ]
        }
      ]
    },
    {
      "cell_type": "code",
      "source": [
        "## Datenformatierung - Category\n",
        "# Übersicht über Verbrechenskategorien\n",
        "train['Category'].unique()"
      ],
      "metadata": {
        "colab": {
          "base_uri": "https://localhost:8080/"
        },
        "id": "kQP-KEDTeHnc",
        "outputId": "7f9390e1-05ed-4304-e0ff-a13f6cfa4e3e"
      },
      "execution_count": 19,
      "outputs": [
        {
          "data": {
            "text/plain": [
              "array(['WARRANTS', 'OTHER OFFENSES', 'LARCENY/THEFT', 'VEHICLE THEFT',\n",
              "       'VANDALISM', 'NON-CRIMINAL', 'ROBBERY', 'ASSAULT', 'WEAPON LAWS',\n",
              "       'BURGLARY', 'SUSPICIOUS OCC', 'DRUNKENNESS',\n",
              "       'FORGERY/COUNTERFEITING', 'DRUG/NARCOTIC', 'STOLEN PROPERTY',\n",
              "       'SECONDARY CODES', 'TRESPASS', 'MISSING PERSON', 'FRAUD',\n",
              "       'KIDNAPPING', 'RUNAWAY', 'DRIVING UNDER THE INFLUENCE',\n",
              "       'SEX OFFENSES FORCIBLE', 'PROSTITUTION', 'DISORDERLY CONDUCT',\n",
              "       'ARSON', 'FAMILY OFFENSES', 'LIQUOR LAWS', 'BRIBERY',\n",
              "       'EMBEZZLEMENT', 'SUICIDE', 'LOITERING',\n",
              "       'SEX OFFENSES NON FORCIBLE', 'EXTORTION', 'GAMBLING', 'BAD CHECKS',\n",
              "       'TREA', 'RECOVERED VEHICLE', 'PORNOGRAPHY/OBSCENE MAT'],\n",
              "      dtype=object)"
            ]
          },
          "execution_count": 19,
          "metadata": {},
          "output_type": "execute_result"
        }
      ]
    },
    {
      "cell_type": "code",
      "source": [
        "# Filtern der benötigten Kategorien\n",
        "imp_cat   = ['LARCENY/THEFT','ASSAULT','DRUG/NARCOTIC','VEHICLE THEFT','BURGLARY']\n",
        "train_sub = train[train['Category'].isin(imp_cat)]"
      ],
      "metadata": {
        "id": "aY4wcSkcgRWW"
      },
      "execution_count": 20,
      "outputs": []
    },
    {
      "cell_type": "code",
      "source": [
        "train_sub['Category'].unique()"
      ],
      "metadata": {
        "colab": {
          "base_uri": "https://localhost:8080/"
        },
        "id": "zYSwUVp1iruO",
        "outputId": "7f18ca60-801d-4f55-bbbe-eea632a5f259"
      },
      "execution_count": 21,
      "outputs": [
        {
          "data": {
            "text/plain": [
              "array(['LARCENY/THEFT', 'VEHICLE THEFT', 'ASSAULT', 'BURGLARY',\n",
              "       'DRUG/NARCOTIC'], dtype=object)"
            ]
          },
          "execution_count": 21,
          "metadata": {},
          "output_type": "execute_result"
        }
      ]
    },
    {
      "cell_type": "markdown",
      "source": [
        "# **Deskriptive Analyse**\n"
      ],
      "metadata": {
        "id": "6m29u9ZJrXJs"
      }
    },
    {
      "cell_type": "code",
      "source": [
        "## Korrelationsanalyse Heatmap\n",
        "plt.figure(figsize=(16, 6))\n",
        "heatmap = sns.heatmap(train.corr(), vmin=-1,vmax=1, annot=True)\n",
        "heatmap.set_title('Correlation Heatmap', fontdict={'fontsize':12}, pad=12)"
      ],
      "metadata": {
        "colab": {
          "base_uri": "https://localhost:8080/",
          "height": 414
        },
        "id": "zisL0MFxXYbH",
        "outputId": "7a219a35-56ec-491b-eadd-34a4e46c7069"
      },
      "execution_count": 22,
      "outputs": [
        {
          "data": {
            "text/plain": [
              "Text(0.5, 1.0, 'Correlation Heatmap')"
            ]
          },
          "execution_count": 22,
          "metadata": {},
          "output_type": "execute_result"
        },
        {
          "data": {
            "image/png": "[encoded data removed]",
            "text/plain": [
              "<Figure size 1152x432 with 2 Axes>"
            ]
          },
          "metadata": {},
          "output_type": "display_data"
        }
      ]
    },
    {
      "cell_type": "code",
      "source": [
        "from scipy.stats import chi2_contingency\n",
        "\n",
        "def cramers_V(var1,var2) :\n",
        "  crosstab =np.array(pd.crosstab(var1,var2, rownames=None, colnames=None)) # Cross table building\n",
        "  stat = chi2_contingency(crosstab)[0] # Keeping of the test statistic of the Chi2 test\n",
        "  obs = np.sum(crosstab) # Number of observations\n",
        "  mini = min(crosstab.shape)-1 # Take the minimum value between the columns and the rows of the cross table\n",
        "  return (stat/(obs*mini))\n",
        "\n",
        "train_cat = train[['Category','Descript','PdDistrict','Resolution']]"
      ],
      "metadata": {
        "id": "lZSKAy5pZGFa"
      },
      "execution_count": 23,
      "outputs": []
    },
    {
      "cell_type": "markdown",
      "source": [
        "Korrelationsanalyse von nominal kategorischen Merkmalen, ohne Addresse aufgrund des geringen Rams in Colab. \n",
        "Description und Category sind hoch korreliert, was jedoch nicht weiter verwunderlich ist. Der Rest ist unauffällig."
      ],
      "metadata": {
        "id": "QHc0rQJWel_n"
      }
    },
    {
      "cell_type": "code",
      "source": [
        "rows= []\n",
        "\n",
        "for var1 in train_cat:\n",
        "  col = []\n",
        "  for var2 in train_cat :\n",
        "    cramers =cramers_V(train_cat[var1], train_cat[var2]) # Cramer's V test\n",
        "    col.append(round(cramers,2)) # Keeping of the rounded value of the Cramer's V  \n",
        "  rows.append(col)\n",
        "  \n",
        "cramers_results = np.array(rows)\n",
        "df = pd.DataFrame(cramers_results, columns = train_cat.columns, index =train_cat.columns)\n",
        "\n",
        "\n",
        "\n",
        "df"
      ],
      "metadata": {
        "id": "E0kdiBkPcTj2",
        "colab": {
          "base_uri": "https://localhost:8080/",
          "height": 175
        },
        "outputId": "0dd2fe1a-d6de-4764-b3d9-c2301d2905f9"
      },
      "execution_count": 24,
      "outputs": [
        {
          "data": {
            "text/html": [
              "\n",
              "  <div id=\"df-832636b6-1084-4dc6-8cc7-91c1cc51f8f6\">\n",
              "    <div class=\"colab-df-container\">\n",
              "      <div>\n",
              "<style scoped>\n",
              "    .dataframe tbody tr th:only-of-type {\n",
              "        vertical-align: middle;\n",
              "    }\n",
              "\n",
              "    .dataframe tbody tr th {\n",
              "        vertical-align: top;\n",
              "    }\n",
              "\n",
              "    .dataframe thead th {\n",
              "        text-align: right;\n",
              "    }\n",
              "</style>\n",
              "<table border=\"1\" class=\"dataframe\">\n",
              "  <thead>\n",
              "    <tr style=\"text-align: right;\">\n",
              "      <th></th>\n",
              "      <th>Category</th>\n",
              "      <th>Descript</th>\n",
              "      <th>PdDistrict</th>\n",
              "      <th>Resolution</th>\n",
              "    </tr>\n",
              "  </thead>\n",
              "  <tbody>\n",
              "    <tr>\n",
              "      <th>Category</th>\n",
              "      <td>1.00</td>\n",
              "      <td>0.99</td>\n",
              "      <td>0.02</td>\n",
              "      <td>0.09</td>\n",
              "    </tr>\n",
              "    <tr>\n",
              "      <th>Descript</th>\n",
              "      <td>0.99</td>\n",
              "      <td>1.00</td>\n",
              "      <td>0.03</td>\n",
              "      <td>0.16</td>\n",
              "    </tr>\n",
              "    <tr>\n",
              "      <th>PdDistrict</th>\n",
              "      <td>0.02</td>\n",
              "      <td>0.03</td>\n",
              "      <td>1.00</td>\n",
              "      <td>0.01</td>\n",
              "    </tr>\n",
              "    <tr>\n",
              "      <th>Resolution</th>\n",
              "      <td>0.09</td>\n",
              "      <td>0.16</td>\n",
              "      <td>0.01</td>\n",
              "      <td>1.00</td>\n",
              "    </tr>\n",
              "  </tbody>\n",
              "</table>\n",
              "</div>\n",
              "      <button class=\"colab-df-convert\" onclick=\"convertToInteractive('df-832636b6-1084-4dc6-8cc7-91c1cc51f8f6')\"\n",
              "              title=\"Convert this dataframe to an interactive table.\"\n",
              "              style=\"display:none;\">\n",
              "        \n",
              "  <svg xmlns=\"http://www.w3.org/2000/svg\" height=\"24px\"viewBox=\"0 0 24 24\"\n",
              "       width=\"24px\">\n",
              "    <path d=\"M0 0h24v24H0V0z\" fill=\"none\"/>\n",
              "    <path d=\"M18.56 5.44l.94 2.06.94-2.06 2.06-.94-2.06-.94-.94-2.06-.94 2.06-2.06.94zm-11 1L8.5 8.5l.94-2.06 2.06-.94-2.06-.94L8.5 2.5l-.94 2.06-2.06.94zm10 10l.94 2.06.94-2.06 2.06-.94-2.06-.94-.94-2.06-.94 2.06-2.06.94z\"/><path d=\"M17.41 7.96l-1.37-1.37c-.4-.4-.92-.59-1.43-.59-.52 0-1.04.2-1.43.59L10.3 9.45l-7.72 7.72c-.78.78-.78 2.05 0 2.83L4 21.41c.39.39.9.59 1.41.59.51 0 1.02-.2 1.41-.59l7.78-7.78 2.81-2.81c.8-.78.8-2.07 0-2.86zM5.41 20L4 18.59l7.72-7.72 1.47 1.35L5.41 20z\"/>\n",
              "  </svg>\n",
              "      </button>\n",
              "      \n",
              "  <style>\n",
              "    .colab-df-container {\n",
              "      display:flex;\n",
              "      flex-wrap:wrap;\n",
              "      gap: 12px;\n",
              "    }\n",
              "\n",
              "    .colab-df-convert {\n",
              "      background-color: #E8F0FE;\n",
              "      border: none;\n",
              "      border-radius: 50%;\n",
              "      cursor: pointer;\n",
              "      display: none;\n",
              "      fill: #1967D2;\n",
              "      height: 32px;\n",
              "      padding: 0 0 0 0;\n",
              "      width: 32px;\n",
              "    }\n",
              "\n",
              "    .colab-df-convert:hover {\n",
              "      background-color: #E2EBFA;\n",
              "      box-shadow: 0px 1px 2px rgba(60, 64, 67, 0.3), 0px 1px 3px 1px rgba(60, 64, 67, 0.15);\n",
              "      fill: #174EA6;\n",
              "    }\n",
              "\n",
              "    [theme=dark] .colab-df-convert {\n",
              "      background-color: #3B4455;\n",
              "      fill: #D2E3FC;\n",
              "    }\n",
              "\n",
              "    [theme=dark] .colab-df-convert:hover {\n",
              "      background-color: #434B5C;\n",
              "      box-shadow: 0px 1px 3px 1px rgba(0, 0, 0, 0.15);\n",
              "      filter: drop-shadow(0px 1px 2px rgba(0, 0, 0, 0.3));\n",
              "      fill: #FFFFFF;\n",
              "    }\n",
              "  </style>\n",
              "\n",
              "      <script>\n",
              "        const buttonEl =\n",
              "          document.querySelector('#df-832636b6-1084-4dc6-8cc7-91c1cc51f8f6 button.colab-df-convert');\n",
              "        buttonEl.style.display =\n",
              "          google.colab.kernel.accessAllowed ? 'block' : 'none';\n",
              "\n",
              "        async function convertToInteractive(key) {\n",
              "          const element = document.querySelector('#df-832636b6-1084-4dc6-8cc7-91c1cc51f8f6');\n",
              "          const dataTable =\n",
              "            await google.colab.kernel.invokeFunction('convertToInteractive',\n",
              "                                                     [key], {});\n",
              "          if (!dataTable) return;\n",
              "\n",
              "          const docLinkHtml = 'Like what you see? Visit the ' +\n",
              "            '<a target=\"_blank\" href=https://colab.research.google.com/notebooks/data_table.ipynb>data table notebook</a>'\n",
              "            + ' to learn more about interactive tables.';\n",
              "          element.innerHTML = '';\n",
              "          dataTable['output_type'] = 'display_data';\n",
              "          await google.colab.output.renderOutput(dataTable, element);\n",
              "          const docLink = document.createElement('div');\n",
              "          docLink.innerHTML = docLinkHtml;\n",
              "          element.appendChild(docLink);\n",
              "        }\n",
              "      </script>\n",
              "    </div>\n",
              "  </div>\n",
              "  "
            ],
            "text/plain": [
              "            Category  Descript  PdDistrict  Resolution\n",
              "Category        1.00      0.99        0.02        0.09\n",
              "Descript        0.99      1.00        0.03        0.16\n",
              "PdDistrict      0.02      0.03        1.00        0.01\n",
              "Resolution      0.09      0.16        0.01        1.00"
            ]
          },
          "execution_count": 24,
          "metadata": {},
          "output_type": "execute_result"
        }
      ]
    },
    {
      "cell_type": "code",
      "source": [
        "## Verteilung Straftaten\n",
        "sns.set_palette('RdBu_r')\n",
        "sns.countplot(x='Category',\n",
        "              data=train_sub,\n",
        "              order = train_sub['Category'].value_counts().index)\n",
        "plt.ylabel('Anzahl Straftaten')\n",
        "plt.xticks(rotation=45)\n",
        "plt.show()"
      ],
      "metadata": {
        "id": "ifupIkE3xr9C",
        "colab": {
          "base_uri": "https://localhost:8080/",
          "height": 336
        },
        "outputId": "ba14715e-431f-4fed-9afa-b62646868b72"
      },
      "execution_count": 25,
      "outputs": [
        {
          "data": {
            "image/png": "[encoded data removed]",
            "text/plain": [
              "<Figure size 432x288 with 1 Axes>"
            ]
          },
          "metadata": {},
          "output_type": "display_data"
        }
      ]
    },
    {
      "cell_type": "code",
      "source": [
        "## Anzahl der Straftaten je Revier\n",
        "sns.set_palette('RdBu_r')\n",
        "k = sns.catplot(x='PdDistrict',\n",
        "            data=train_sub,\n",
        "            order=train_sub['PdDistrict'].value_counts().index,\n",
        "            kind='count')\n",
        "k.set_ylabels('Anzahl Straftaten')\n",
        "plt.xticks(rotation=45)\n",
        "plt.show()"
      ],
      "metadata": {
        "id": "LJwKESHx8xTl",
        "colab": {
          "base_uri": "https://localhost:8080/",
          "height": 412
        },
        "outputId": "8be741a2-915d-4ced-8796-d6f13a63b5fa"
      },
      "execution_count": 26,
      "outputs": [
        {
          "data": {
            "image/png": "[encoded data removed]",
            "text/plain": [
              "<Figure size 360x360 with 1 Axes>"
            ]
          },
          "metadata": {},
          "output_type": "display_data"
        }
      ]
    },
    {
      "cell_type": "code",
      "source": [
        "## Verteilung der Straftatsarten je Revier\n",
        "sns.set_palette('RdBu_r')\n",
        "g = sns.catplot(x='Category',\n",
        "              data=train_sub,\n",
        "            kind='count',\n",
        "              order = train_sub['Category'].value_counts().index,\n",
        "            col='PdDistrict',\n",
        "            col_wrap=5,\n",
        "            col_order=train_sub['PdDistrict'].value_counts().index)\n",
        "g.set_ylabels('Anzahl Straftaten')\n",
        "for ax in g.axes:\n",
        "    plt.setp(ax.get_xticklabels(), visible=True, rotation=45)\n",
        "g.tight_layout()\n",
        "plt.show()"
      ],
      "metadata": {
        "id": "R-c3FA6D00N8",
        "colab": {
          "base_uri": "https://localhost:8080/",
          "height": 729
        },
        "outputId": "24eac556-6f05-418c-dd22-75fe5be9cc6a"
      },
      "execution_count": 27,
      "outputs": [
        {
          "data": {
            "image/png": "[encoded data removed]",
            "text/plain": [
              "<Figure size 1800x720 with 10 Axes>"
            ]
          },
          "metadata": {},
          "output_type": "display_data"
        }
      ]
    },
    {
      "cell_type": "code",
      "source": [
        "## Verteilung Auflösungen\n",
        "sns.set_palette('RdBu_r')\n",
        "sns.countplot(y='Resolution',\n",
        "              data=train_sub,\n",
        "              order = train_sub['Resolution'].value_counts().index)\n",
        "plt.xlabel('Anzahl Auflösungen')\n",
        "#plt.xticks(rotation=90)\n",
        "plt.show()"
      ],
      "metadata": {
        "id": "Zt7DFtyGgcL0",
        "colab": {
          "base_uri": "https://localhost:8080/",
          "height": 279
        },
        "outputId": "bbd06c5a-25af-4b0c-c77b-c524aaa8b522"
      },
      "execution_count": 28,
      "outputs": [
        {
          "data": {
            "image/png": "[encoded data removed]",
            "text/plain": [
              "<Figure size 432x288 with 1 Axes>"
            ]
          },
          "metadata": {},
          "output_type": "display_data"
        }
      ]
    },
    {
      "cell_type": "code",
      "source": [
        "## Zusammenführen der geringen Resolution Ausprägungen\n",
        "top_res = train_sub.groupby(['Resolution']).size().reset_index(name='counts')\n",
        "top_res = top_res.sort_values(by='counts',ascending=False)\n",
        "top_res_names = top_res.iloc[0:4,0].tolist()\n",
        "top_res_names"
      ],
      "metadata": {
        "colab": {
          "base_uri": "https://localhost:8080/"
        },
        "id": "dO020I8iIAGT",
        "outputId": "233040e8-9a3e-4585-e40f-45320d878bac"
      },
      "execution_count": 29,
      "outputs": [
        {
          "data": {
            "text/plain": [
              "['NONE', 'ARREST, BOOKED', 'ARREST, CITED', 'UNFOUNDED']"
            ]
          },
          "execution_count": 29,
          "metadata": {},
          "output_type": "execute_result"
        }
      ]
    },
    {
      "cell_type": "code",
      "source": [
        "## Alle Ausprägungen mit geringer Anzahl werden zusammengefasst\n",
        "train_sub_red = train_sub\n",
        "train_sub_red['Resolution'].mask(~train_sub_red['Resolution'].isin(top_res_names), 'OTHER', inplace=True)"
      ],
      "metadata": {
        "colab": {
          "base_uri": "https://localhost:8080/"
        },
        "id": "WRoixm20I2D8",
        "outputId": "460c1ffa-7062-4b6a-b0b0-bae19df92082"
      },
      "execution_count": 30,
      "outputs": [
        {
          "metadata": {
            "tags": null
          },
          "name": "stderr",
          "output_type": "stream",
          "text": [
            "/usr/local/lib/python3.8/dist-packages/pandas/core/generic.py:8870: SettingWithCopyWarning: \n",
            "A value is trying to be set on a copy of a slice from a DataFrame\n",
            "\n",
            "See the caveats in the documentation: https://pandas.pydata.org/pandas-docs/stable/user_guide/indexing.html#returning-a-view-versus-a-copy\n",
            "  return self._update_inplace(result)\n"
          ]
        }
      ]
    },
    {
      "cell_type": "code",
      "source": [
        "train_sub_red.groupby('Resolution').size()"
      ],
      "metadata": {
        "colab": {
          "base_uri": "https://localhost:8080/"
        },
        "id": "ncQDCIk3Nzpf",
        "outputId": "79b2e5d0-304e-48f5-872e-ff80518e67e6"
      },
      "execution_count": 31,
      "outputs": [
        {
          "data": {
            "text/plain": [
              "Resolution\n",
              "ARREST, BOOKED     83907\n",
              "ARREST, CITED      13426\n",
              "NONE              285260\n",
              "OTHER               9155\n",
              "UNFOUNDED           3612\n",
              "dtype: int64"
            ]
          },
          "execution_count": 31,
          "metadata": {},
          "output_type": "execute_result"
        }
      ]
    },
    {
      "cell_type": "code",
      "source": [
        "sns.displot(train_sub, x='Category', hue='Resolution', multiple='stack')\n",
        "plt.xticks(rotation=45)"
      ],
      "metadata": {
        "colab": {
          "base_uri": "https://localhost:8080/",
          "height": 444
        },
        "id": "RZy_R-NHmrJZ",
        "outputId": "0554b174-f3e2-422f-e1dc-bce46c669065"
      },
      "execution_count": 32,
      "outputs": [
        {
          "data": {
            "text/plain": [
              "([0, 1, 2, 3, 4], <a list of 5 Text major ticklabel objects>)"
            ]
          },
          "execution_count": 32,
          "metadata": {},
          "output_type": "execute_result"
        },
        {
          "data": {
            "image/png": "[encoded data removed]",
            "text/plain": [
              "<Figure size 484.125x360 with 1 Axes>"
            ]
          },
          "metadata": {},
          "output_type": "display_data"
        }
      ]
    },
    {
      "cell_type": "markdown",
      "source": [
        "# **Feature Engineering**"
      ],
      "metadata": {
        "id": "xniJcK9nmh1k"
      }
    },
    {
      "cell_type": "markdown",
      "source": [
        "1. Boolean Feature Sonne untergegangen \n",
        "2. Boolean Feature Wochenende/Feiertag "
      ],
      "metadata": {
        "id": "bpFahNrXnQFO"
      }
    },
    {
      "cell_type": "code",
      "source": [
        "#Sonnenauf -und untergänge in San Francisco auf monatlicher Basis\n",
        "sunset = pd.read_csv(\"/content/drive/MyDrive/Master/DM/SF-Project/data/SunsetSF.csv\",delimiter =';')\n",
        "print(sunset.head())\n",
        "train = pd.merge(train,sunset,how='inner', on = 'Month')\n",
        "print(train.head())\n"
      ],
      "metadata": {
        "colab": {
          "base_uri": "https://localhost:8080/"
        },
        "id": "ZzJdP-qonKbD",
        "outputId": "ab798e40-3a80-4d3e-d746-bc6765ad736f"
      },
      "execution_count": 43,
      "outputs": [
        {
          "output_type": "stream",
          "name": "stdout",
          "text": [
            "   Month   Rise   Culm    Set\n",
            "0      1  07:22  12:11  17:00\n",
            "1      2  07:12  12:21  17:31\n",
            "2      3  06:40  12:20  18:01\n",
            "3      4  06:54  13:12  19:31\n",
            "4      5  06:13  13:05  19:58\n",
            "         Category                      Descript  DayOfWeek PdDistrict  \\\n",
            "0        WARRANTS                WARRANT ARREST  Wednesday   NORTHERN   \n",
            "1  OTHER OFFENSES      TRAFFIC VIOLATION ARREST  Wednesday   NORTHERN   \n",
            "2  OTHER OFFENSES      TRAFFIC VIOLATION ARREST  Wednesday   NORTHERN   \n",
            "3   LARCENY/THEFT  GRAND THEFT FROM LOCKED AUTO  Wednesday   NORTHERN   \n",
            "4   LARCENY/THEFT  GRAND THEFT FROM LOCKED AUTO  Wednesday       PARK   \n",
            "\n",
            "       Resolution                    Address           X          Y  \\\n",
            "0  ARREST, BOOKED         OAK ST / LAGUNA ST -122.425892  37.774599   \n",
            "1  ARREST, BOOKED         OAK ST / LAGUNA ST -122.425892  37.774599   \n",
            "2  ARREST, BOOKED  VANNESS AV / GREENWICH ST -122.424363  37.800414   \n",
            "3            NONE   1500 Block of LOMBARD ST -122.426995  37.800873   \n",
            "4            NONE  100 Block of BRODERICK ST -122.438738  37.771541   \n",
            "\n",
            "        Date   Time  Hour  Year  Month  Day  WeekOfYear   Rise   Culm    Set  \n",
            "0 2015-05-13  23:53    23  2015      5   13          20  06:13  13:05  19:58  \n",
            "1 2015-05-13  23:53    23  2015      5   13          20  06:13  13:05  19:58  \n",
            "2 2015-05-13  23:33    23  2015      5   13          20  06:13  13:05  19:58  \n",
            "3 2015-05-13  23:30    23  2015      5   13          20  06:13  13:05  19:58  \n",
            "4 2015-05-13  23:30    23  2015      5   13          20  06:13  13:05  19:58  \n"
          ]
        }
      ]
    }
  ]
}